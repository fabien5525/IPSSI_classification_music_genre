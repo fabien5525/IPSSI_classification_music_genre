{
 "cells": [
  {
   "cell_type": "code",
   "execution_count": null,
   "metadata": {},
   "outputs": [],
   "source": [
    "%cd /tf/notebooks/notebooks"
   ]
  },
  {
   "cell_type": "code",
   "execution_count": null,
   "metadata": {},
   "outputs": [],
   "source": [
    "import pandas as pd\n",
    "\n",
    "dataset_path = 'clean_data/v2_audio_features_30s_equal.csv'\n",
    "df = pd.read_csv(dataset_path)\n",
    "df.head(20)"
   ]
  },
  {
   "cell_type": "code",
   "execution_count": null,
   "metadata": {},
   "outputs": [],
   "source": [
    "columns = df.columns[1:]\n",
    "print (columns)"
   ]
  },
  {
   "cell_type": "code",
   "execution_count": null,
   "metadata": {},
   "outputs": [],
   "source": [
    "# Histograms with matplotlib in one image\n",
    "import matplotlib.pyplot as plt\n",
    "\n",
    "fig, axes = plt.subplots(nrows=4, ncols=3, figsize=(20, 20))\n",
    "fig.subplots_adjust(hspace=0.5)\n",
    "fig.suptitle('Histograms of audio features')\n",
    "\n",
    "for i, ax in enumerate(axes.flatten()):\n",
    "    ax.hist(df[columns[i]], bins=100)\n",
    "    ax.set_title(columns[i])\n",
    "\n",
    "plt.show()"
   ]
  },
  {
   "cell_type": "code",
   "execution_count": null,
   "metadata": {},
   "outputs": [],
   "source": [
    "# Boxplots with matplotlib in one image\n",
    "import matplotlib.pyplot as plt\n",
    "\n",
    "fig, axes = plt.subplots(nrows=4, ncols=3, figsize=(20, 20))\n",
    "fig.subplots_adjust(hspace=0.5)\n",
    "fig.suptitle('Boxplots of audio features')\n",
    "\n",
    "for i, ax in enumerate(axes.flatten()):\n",
    "    ax.boxplot(df[columns[i]])\n",
    "    ax.set_title(columns[i])\n",
    "\n",
    "plt.show()"
   ]
  },
  {
   "cell_type": "code",
   "execution_count": null,
   "metadata": {},
   "outputs": [],
   "source": [
    "# Scatter plots with matplotlib in one image\n",
    "import matplotlib.pyplot as plt\n",
    "\n",
    "fig, axes = plt.subplots(nrows=4, ncols=3, figsize=(20, 20))\n",
    "fig.subplots_adjust(hspace=0.5)\n",
    "fig.suptitle('Scatter plots of audio features')\n",
    "\n",
    "for i, ax in enumerate(axes.flatten()):\n",
    "    ax.scatter(df[columns[i]], df['label'])\n",
    "    ax.set_title(columns[i])\n",
    "\n",
    "plt.show()"
   ]
  },
  {
   "cell_type": "code",
   "execution_count": null,
   "metadata": {},
   "outputs": [],
   "source": [
    "# Correlation matrix with matplotlib in one image\n",
    "import matplotlib.pyplot as plt\n",
    "\n",
    "fig, ax = plt.subplots(figsize=(20, 20))\n",
    "fig.suptitle('Correlation matrix of audio features')\n",
    "\n",
    "df_features = df[columns]\n",
    "\n",
    "corr = df_features.corr()\n",
    "ax.matshow(corr)\n",
    "plt.xticks(range(len(corr.columns)), corr.columns, rotation='vertical')\n",
    "plt.yticks(range(len(corr.columns)), corr.columns)\n",
    "\n",
    "plt.show()"
   ]
  },
  {
   "cell_type": "code",
   "execution_count": null,
   "metadata": {},
   "outputs": [],
   "source": [
    "# graph repartition of labels\n",
    "\n",
    "import matplotlib.pyplot as plt\n",
    "\n",
    "fig, ax = plt.subplots(figsize=(20, 20))\n",
    "fig.suptitle('Repartition of labels')\n",
    "\n",
    "df['label'].value_counts().plot(kind='bar', ax=ax)\n",
    "\n",
    "plt.show()"
   ]
  },
  {
   "cell_type": "code",
   "execution_count": null,
   "metadata": {},
   "outputs": [],
   "source": [
    "#Graphiques en barres\n",
    "import matplotlib.pyplot as plt\n",
    "\n",
    "fig, axes = plt.subplots(nrows=4, ncols=3, figsize=(20, 20))\n",
    "fig.subplots_adjust(hspace=0.5)\n",
    "fig.suptitle('Bar charts of audio features')\n",
    "\n",
    "for i, ax in enumerate(axes.flatten()):\n",
    "    ax.bar(df['label'], df[columns[i]])\n",
    "    ax.set_title(columns[i])\n",
    "\n",
    "plt.show()"
   ]
  },
  {
   "cell_type": "code",
   "execution_count": null,
   "metadata": {},
   "outputs": [],
   "source": [
    "# Graphiques en radar\n",
    "import matplotlib.pyplot as plt\n",
    "\n",
    "fig, axes = plt.subplots(nrows=4, ncols=3, figsize=(20, 20))\n",
    "fig.subplots_adjust(hspace=0.5)\n",
    "fig.suptitle('Radar charts of audio features')\n",
    "\n",
    "for i, ax in enumerate(axes.flatten()):\n",
    "    ax.plot(df['label'], df[columns[i]])\n",
    "    ax.set_title(columns[i])\n",
    "\n",
    "plt.show()"
   ]
  }
 ],
 "metadata": {
  "kernelspec": {
   "display_name": "Python 3 (ipykernel)",
   "language": "python",
   "name": "python3"
  },
  "language_info": {
   "codemirror_mode": {
    "name": "ipython",
    "version": 3
   },
   "file_extension": ".py",
   "mimetype": "text/x-python",
   "name": "python",
   "nbconvert_exporter": "python",
   "pygments_lexer": "ipython3",
   "version": "3.11.0rc1"
  }
 },
 "nbformat": 4,
 "nbformat_minor": 2
}
