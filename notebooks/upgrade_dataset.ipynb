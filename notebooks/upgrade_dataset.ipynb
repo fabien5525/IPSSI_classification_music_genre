{
 "cells": [
  {
   "cell_type": "code",
   "execution_count": null,
   "metadata": {},
   "outputs": [],
   "source": [
    "# read upgrade_dataset.json\n",
    "# take url and donload with pytube library, save it into a music .wav file in data/genres_original/{genre}/{genre}.upgrade.{index}.wav, shorten t to a multiple of 30 seconds\n",
    "# my json is like this {\"blues\": [{\"title\": \"The Thrill Is Gone - B.B. King\", \"url\": \"https://www.youtube.com/watch?v=4fk2prKnYnI\"}, ... ], ...}"
   ]
  },
  {
   "cell_type": "code",
   "execution_count": null,
   "metadata": {},
   "outputs": [],
   "source": [
    "%pip install pytube pydub\n",
    "%cd /tf/notebooks/notebooks"
   ]
  },
  {
   "cell_type": "code",
   "execution_count": null,
   "metadata": {},
   "outputs": [],
   "source": [
    "import json\n",
    "import os\n",
    "from pytube import YouTube\n",
    "from pydub import AudioSegment\n",
    "\n",
    "# Load data from the JSON file\n",
    "with open('upgrade_dataset.json', 'r') as file:\n",
    "    data = json.load(file)\n",
    "\n",
    "# Define a function to download and process the audio\n",
    "def download_and_process_audio(genre, title, url, index):\n",
    "    try:\n",
    "        yt = YouTube(url)\n",
    "        stream = yt.streams.filter(only_audio=True).first()\n",
    "        \n",
    "        # if mp4 is not already downloaded, do it, otherwise skip\n",
    "        filename = f\"data/genres_original/{genre}/{genre}.upgrade.{index}.wav\"\n",
    "\n",
    "        if not os.path.exists(filename):\n",
    "            # Download the video as audio\n",
    "            stream.download(filename=f\"data/temp/{genre}_{index}.mp4\")\n",
    "            \n",
    "            # Convert the downloaded file to a WAV audio file\n",
    "            audio = AudioSegment.from_file(f\"data/temp/{genre}_{index}.mp4\", format=\"mp4\")\n",
    "            \n",
    "            # Ensure duration is a multiple of 30 seconds\n",
    "            duration = len(audio)\n",
    "            duration = duration - (duration % (30 * 1000))  # Round down to the nearest multiple of 30 seconds\n",
    "            audio = audio[:duration]  # Trim audio to the desired duration\n",
    "            \n",
    "            # Export the audio as a WAV file\n",
    "            audio.export(filename, format=\"wav\")\n",
    "            \n",
    "            print(f\"Downloaded and processed: {title}\")\n",
    "        else:\n",
    "            print(f\"Already downloaded: {title}\")\n",
    "            \n",
    "    except Exception as e:\n",
    "        print(f\"Error processing {title}: {e}\")\n",
    "\n",
    "# Process each entry in the JSON data\n",
    "for genre, songs in data.items():\n",
    "    genre_dir = f\"data/genres_original/{genre}/\"\n",
    "    if not os.path.exists(genre_dir):\n",
    "        os.makedirs(genre_dir)\n",
    "    \n",
    "    for index, song in enumerate(songs):\n",
    "        title = song['title']\n",
    "        url = song['url']\n",
    "        download_and_process_audio(genre, title, url, index)\n"
   ]
  }
 ],
 "metadata": {
  "kernelspec": {
   "display_name": "Python 3 (ipykernel)",
   "language": "python",
   "name": "python3"
  },
  "language_info": {
   "codemirror_mode": {
    "name": "ipython",
    "version": 3
   },
   "file_extension": ".py",
   "mimetype": "text/x-python",
   "name": "python",
   "nbconvert_exporter": "python",
   "pygments_lexer": "ipython3",
   "version": "3.11.0rc1"
  }
 },
 "nbformat": 4,
 "nbformat_minor": 2
}
