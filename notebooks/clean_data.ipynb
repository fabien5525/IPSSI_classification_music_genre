{
 "cells": [
  {
   "cell_type": "markdown",
   "metadata": {},
   "source": [
    "# Préparer le dataset"
   ]
  },
  {
   "cell_type": "code",
   "execution_count": 1,
   "metadata": {},
   "outputs": [
    {
     "name": "stdout",
     "output_type": "stream",
     "text": [
      "['blues', 'classical', 'country', 'disco', 'hiphop', 'jazz', 'metal', 'pop', 'reggae', 'rock']\n"
     ]
    }
   ],
   "source": [
    "raw_data_folder = './data/genres_original/'\n",
    "\n",
    "# take all folder in raw_data_folder\n",
    "import os\n",
    "genres = os.listdir(raw_data_folder)\n",
    "\n",
    "print(genres)"
   ]
  },
  {
   "cell_type": "code",
   "execution_count": 2,
   "metadata": {},
   "outputs": [
    {
     "name": "stdout",
     "output_type": "stream",
     "text": [
      "['blues.00000.wav', 'blues.00001.wav', 'blues.00002.wav', 'blues.00003.wav', 'blues.00004.wav', 'blues.00005.wav', 'blues.00006.wav', 'blues.00007.wav', 'blues.00008.wav', 'blues.00009.wav', 'blues.00010.wav', 'blues.00011.wav', 'blues.00012.wav', 'blues.00013.wav', 'blues.00014.wav', 'blues.00015.wav', 'blues.00016.wav', 'blues.00017.wav', 'blues.00018.wav', 'blues.00019.wav', 'blues.00020.wav', 'blues.00021.wav', 'blues.00022.wav', 'blues.00023.wav', 'blues.00024.wav', 'blues.00025.wav', 'blues.00026.wav', 'blues.00027.wav', 'blues.00028.wav', 'blues.00029.wav', 'blues.00030.wav', 'blues.00031.wav', 'blues.00032.wav', 'blues.00033.wav', 'blues.00034.wav', 'blues.00035.wav', 'blues.00036.wav', 'blues.00037.wav', 'blues.00038.wav', 'blues.00039.wav', 'blues.00040.wav', 'blues.00041.wav', 'blues.00042.wav', 'blues.00043.wav', 'blues.00044.wav', 'blues.00045.wav', 'blues.00046.wav', 'blues.00047.wav', 'blues.00048.wav', 'blues.00049.wav', 'blues.00050.wav', 'blues.00051.wav', 'blues.00052.wav', 'blues.00053.wav', 'blues.00054.wav', 'blues.00055.wav', 'blues.00056.wav', 'blues.00057.wav', 'blues.00058.wav', 'blues.00059.wav', 'blues.00060.wav', 'blues.00061.wav', 'blues.00062.wav', 'blues.00063.wav', 'blues.00064.wav', 'blues.00065.wav', 'blues.00066.wav', 'blues.00067.wav', 'blues.00068.wav', 'blues.00069.wav', 'blues.00070.wav', 'blues.00071.wav', 'blues.00072.wav', 'blues.00073.wav', 'blues.00074.wav', 'blues.00075.wav', 'blues.00076.wav', 'blues.00077.wav', 'blues.00078.wav', 'blues.00079.wav', 'blues.00080.wav', 'blues.00081.wav', 'blues.00082.wav', 'blues.00083.wav', 'blues.00084.wav', 'blues.00085.wav', 'blues.00086.wav', 'blues.00087.wav', 'blues.00088.wav', 'blues.00089.wav', 'blues.00090.wav', 'blues.00091.wav', 'blues.00092.wav', 'blues.00093.wav', 'blues.00094.wav', 'blues.00095.wav', 'blues.00096.wav', 'blues.00097.wav', 'blues.00098.wav', 'blues.00099.wav', 'blues.upgrade.0.wav', 'blues.upgrade.1.wav', 'blues.upgrade.2.wav', 'blues.upgrade.3.wav', 'blues.upgrade.4.wav', 'blues.upgrade.5.wav', 'blues.upgrade.6.wav', 'blues.upgrade.7.wav', 'blues.upgrade.8.wav', 'blues.upgrade.9.wav']\n"
     ]
    },
    {
     "name": "stderr",
     "output_type": "stream",
     "text": [
      "c:\\Users\\fcola\\Documents\\COURS\\opendata\\music_genre_classification\\.venv\\Lib\\site-packages\\pydub\\utils.py:170: RuntimeWarning: Couldn't find ffmpeg or avconv - defaulting to ffmpeg, but may not work\n",
      "  warn(\"Couldn't find ffmpeg or avconv - defaulting to ffmpeg, but may not work\", RuntimeWarning)\n"
     ]
    },
    {
     "name": "stdout",
     "output_type": "stream",
     "text": [
      "['classical.00000.wav', 'classical.00001.wav', 'classical.00002.wav', 'classical.00003.wav', 'classical.00004.wav', 'classical.00005.wav', 'classical.00006.wav', 'classical.00007.wav', 'classical.00008.wav', 'classical.00009.wav', 'classical.00010.wav', 'classical.00011.wav', 'classical.00012.wav', 'classical.00013.wav', 'classical.00014.wav', 'classical.00015.wav', 'classical.00016.wav', 'classical.00017.wav', 'classical.00018.wav', 'classical.00019.wav', 'classical.00020.wav', 'classical.00021.wav', 'classical.00022.wav', 'classical.00023.wav', 'classical.00024.wav', 'classical.00025.wav', 'classical.00026.wav', 'classical.00027.wav', 'classical.00028.wav', 'classical.00029.wav', 'classical.00030.wav', 'classical.00031.wav', 'classical.00032.wav', 'classical.00033.wav', 'classical.00034.wav', 'classical.00035.wav', 'classical.00036.wav', 'classical.00037.wav', 'classical.00038.wav', 'classical.00039.wav', 'classical.00040.wav', 'classical.00041.wav', 'classical.00042.wav', 'classical.00043.wav', 'classical.00044.wav', 'classical.00045.wav', 'classical.00046.wav', 'classical.00047.wav', 'classical.00048.wav', 'classical.00049.wav', 'classical.00050.wav', 'classical.00051.wav', 'classical.00052.wav', 'classical.00053.wav', 'classical.00054.wav', 'classical.00055.wav', 'classical.00056.wav', 'classical.00057.wav', 'classical.00058.wav', 'classical.00059.wav', 'classical.00060.wav', 'classical.00061.wav', 'classical.00062.wav', 'classical.00063.wav', 'classical.00064.wav', 'classical.00065.wav', 'classical.00066.wav', 'classical.00067.wav', 'classical.00068.wav', 'classical.00069.wav', 'classical.00070.wav', 'classical.00071.wav', 'classical.00072.wav', 'classical.00073.wav', 'classical.00074.wav', 'classical.00075.wav', 'classical.00076.wav', 'classical.00077.wav', 'classical.00078.wav', 'classical.00079.wav', 'classical.00080.wav', 'classical.00081.wav', 'classical.00082.wav', 'classical.00083.wav', 'classical.00084.wav', 'classical.00085.wav', 'classical.00086.wav', 'classical.00087.wav', 'classical.00088.wav', 'classical.00089.wav', 'classical.00090.wav', 'classical.00091.wav', 'classical.00092.wav', 'classical.00093.wav', 'classical.00094.wav', 'classical.00095.wav', 'classical.00096.wav', 'classical.00097.wav', 'classical.00098.wav', 'classical.00099.wav', 'classical.upgrade.0.wav', 'classical.upgrade.1.wav', 'classical.upgrade.2.wav', 'classical.upgrade.3.wav', 'classical.upgrade.4.wav', 'classical.upgrade.5.wav', 'classical.upgrade.6.wav', 'classical.upgrade.7.wav', 'classical.upgrade.8.wav', 'classical.upgrade.9.wav']\n",
      "['country.00000.wav', 'country.00001.wav', 'country.00002.wav', 'country.00003.wav', 'country.00004.wav', 'country.00005.wav', 'country.00006.wav', 'country.00007.wav', 'country.00008.wav', 'country.00009.wav', 'country.00010.wav', 'country.00011.wav', 'country.00012.wav', 'country.00013.wav', 'country.00014.wav', 'country.00015.wav', 'country.00016.wav', 'country.00017.wav', 'country.00018.wav', 'country.00019.wav', 'country.00020.wav', 'country.00021.wav', 'country.00022.wav', 'country.00023.wav', 'country.00024.wav', 'country.00025.wav', 'country.00026.wav', 'country.00027.wav', 'country.00028.wav', 'country.00029.wav', 'country.00030.wav', 'country.00031.wav', 'country.00032.wav', 'country.00033.wav', 'country.00034.wav', 'country.00035.wav', 'country.00036.wav', 'country.00037.wav', 'country.00038.wav', 'country.00039.wav', 'country.00040.wav', 'country.00041.wav', 'country.00042.wav', 'country.00043.wav', 'country.00044.wav', 'country.00045.wav', 'country.00046.wav', 'country.00047.wav', 'country.00048.wav', 'country.00049.wav', 'country.00050.wav', 'country.00051.wav', 'country.00052.wav', 'country.00053.wav', 'country.00054.wav', 'country.00055.wav', 'country.00056.wav', 'country.00057.wav', 'country.00058.wav', 'country.00059.wav', 'country.00060.wav', 'country.00061.wav', 'country.00062.wav', 'country.00063.wav', 'country.00064.wav', 'country.00065.wav', 'country.00066.wav', 'country.00067.wav', 'country.00068.wav', 'country.00069.wav', 'country.00070.wav', 'country.00071.wav', 'country.00072.wav', 'country.00073.wav', 'country.00074.wav', 'country.00075.wav', 'country.00076.wav', 'country.00077.wav', 'country.00078.wav', 'country.00079.wav', 'country.00080.wav', 'country.00081.wav', 'country.00082.wav', 'country.00083.wav', 'country.00084.wav', 'country.00085.wav', 'country.00086.wav', 'country.00087.wav', 'country.00088.wav', 'country.00089.wav', 'country.00090.wav', 'country.00091.wav', 'country.00092.wav', 'country.00093.wav', 'country.00094.wav', 'country.00095.wav', 'country.00096.wav', 'country.00097.wav', 'country.00098.wav', 'country.00099.wav', 'country.upgrade.0.wav', 'country.upgrade.1.wav', 'country.upgrade.2.wav', 'country.upgrade.3.wav', 'country.upgrade.4.wav', 'country.upgrade.5.wav', 'country.upgrade.6.wav', 'country.upgrade.7.wav', 'country.upgrade.8.wav', 'country.upgrade.9.wav']\n",
      "['disco.00000.wav', 'disco.00001.wav', 'disco.00002.wav', 'disco.00003.wav', 'disco.00004.wav', 'disco.00005.wav', 'disco.00006.wav', 'disco.00007.wav', 'disco.00008.wav', 'disco.00009.wav', 'disco.00010.wav', 'disco.00011.wav', 'disco.00012.wav', 'disco.00013.wav', 'disco.00014.wav', 'disco.00015.wav', 'disco.00016.wav', 'disco.00017.wav', 'disco.00018.wav', 'disco.00019.wav', 'disco.00020.wav', 'disco.00021.wav', 'disco.00022.wav', 'disco.00023.wav', 'disco.00024.wav', 'disco.00025.wav', 'disco.00026.wav', 'disco.00027.wav', 'disco.00028.wav', 'disco.00029.wav', 'disco.00030.wav', 'disco.00031.wav', 'disco.00032.wav', 'disco.00033.wav', 'disco.00034.wav', 'disco.00035.wav', 'disco.00036.wav', 'disco.00037.wav', 'disco.00038.wav', 'disco.00039.wav', 'disco.00040.wav', 'disco.00041.wav', 'disco.00042.wav', 'disco.00043.wav', 'disco.00044.wav', 'disco.00045.wav', 'disco.00046.wav', 'disco.00047.wav', 'disco.00048.wav', 'disco.00049.wav', 'disco.00050.wav', 'disco.00051.wav', 'disco.00052.wav', 'disco.00053.wav', 'disco.00054.wav', 'disco.00055.wav', 'disco.00056.wav', 'disco.00057.wav', 'disco.00058.wav', 'disco.00059.wav', 'disco.00060.wav', 'disco.00061.wav', 'disco.00062.wav', 'disco.00063.wav', 'disco.00064.wav', 'disco.00065.wav', 'disco.00066.wav', 'disco.00067.wav', 'disco.00068.wav', 'disco.00069.wav', 'disco.00070.wav', 'disco.00071.wav', 'disco.00072.wav', 'disco.00073.wav', 'disco.00074.wav', 'disco.00075.wav', 'disco.00076.wav', 'disco.00077.wav', 'disco.00078.wav', 'disco.00079.wav', 'disco.00080.wav', 'disco.00081.wav', 'disco.00082.wav', 'disco.00083.wav', 'disco.00084.wav', 'disco.00085.wav', 'disco.00086.wav', 'disco.00087.wav', 'disco.00088.wav', 'disco.00089.wav', 'disco.00090.wav', 'disco.00091.wav', 'disco.00092.wav', 'disco.00093.wav', 'disco.00094.wav', 'disco.00095.wav', 'disco.00096.wav', 'disco.00097.wav', 'disco.00098.wav', 'disco.00099.wav', 'disco.upgrade.0.wav', 'disco.upgrade.1.wav', 'disco.upgrade.2.wav', 'disco.upgrade.3.wav', 'disco.upgrade.4.wav', 'disco.upgrade.5.wav', 'disco.upgrade.6.wav', 'disco.upgrade.7.wav', 'disco.upgrade.8.wav', 'disco.upgrade.9.wav']\n",
      "['hiphop.00000.wav', 'hiphop.00001.wav', 'hiphop.00002.wav', 'hiphop.00003.wav', 'hiphop.00004.wav', 'hiphop.00005.wav', 'hiphop.00006.wav', 'hiphop.00007.wav', 'hiphop.00008.wav', 'hiphop.00009.wav', 'hiphop.00010.wav', 'hiphop.00011.wav', 'hiphop.00012.wav', 'hiphop.00013.wav', 'hiphop.00014.wav', 'hiphop.00015.wav', 'hiphop.00016.wav', 'hiphop.00017.wav', 'hiphop.00018.wav', 'hiphop.00019.wav', 'hiphop.00020.wav', 'hiphop.00021.wav', 'hiphop.00022.wav', 'hiphop.00023.wav', 'hiphop.00024.wav', 'hiphop.00025.wav', 'hiphop.00026.wav', 'hiphop.00027.wav', 'hiphop.00028.wav', 'hiphop.00029.wav', 'hiphop.00030.wav', 'hiphop.00031.wav', 'hiphop.00032.wav', 'hiphop.00033.wav', 'hiphop.00034.wav', 'hiphop.00035.wav', 'hiphop.00036.wav', 'hiphop.00037.wav', 'hiphop.00038.wav', 'hiphop.00039.wav', 'hiphop.00040.wav', 'hiphop.00041.wav', 'hiphop.00042.wav', 'hiphop.00043.wav', 'hiphop.00044.wav', 'hiphop.00045.wav', 'hiphop.00046.wav', 'hiphop.00047.wav', 'hiphop.00048.wav', 'hiphop.00049.wav', 'hiphop.00050.wav', 'hiphop.00051.wav', 'hiphop.00052.wav', 'hiphop.00053.wav', 'hiphop.00054.wav', 'hiphop.00055.wav', 'hiphop.00056.wav', 'hiphop.00057.wav', 'hiphop.00058.wav', 'hiphop.00059.wav', 'hiphop.00060.wav', 'hiphop.00061.wav', 'hiphop.00062.wav', 'hiphop.00063.wav', 'hiphop.00064.wav', 'hiphop.00065.wav', 'hiphop.00066.wav', 'hiphop.00067.wav', 'hiphop.00068.wav', 'hiphop.00069.wav', 'hiphop.00070.wav', 'hiphop.00071.wav', 'hiphop.00072.wav', 'hiphop.00073.wav', 'hiphop.00074.wav', 'hiphop.00075.wav', 'hiphop.00076.wav', 'hiphop.00077.wav', 'hiphop.00078.wav', 'hiphop.00079.wav', 'hiphop.00080.wav', 'hiphop.00081.wav', 'hiphop.00082.wav', 'hiphop.00083.wav', 'hiphop.00084.wav', 'hiphop.00085.wav', 'hiphop.00086.wav', 'hiphop.00087.wav', 'hiphop.00088.wav', 'hiphop.00089.wav', 'hiphop.00090.wav', 'hiphop.00091.wav', 'hiphop.00092.wav', 'hiphop.00093.wav', 'hiphop.00094.wav', 'hiphop.00095.wav', 'hiphop.00096.wav', 'hiphop.00097.wav', 'hiphop.00098.wav', 'hiphop.00099.wav', 'hiphop.upgrade.0.wav', 'hiphop.upgrade.1.wav', 'hiphop.upgrade.2.wav', 'hiphop.upgrade.3.wav', 'hiphop.upgrade.4.wav', 'hiphop.upgrade.5.wav', 'hiphop.upgrade.6.wav', 'hiphop.upgrade.7.wav', 'hiphop.upgrade.8.wav', 'hiphop.upgrade.9.wav']\n",
      "['jazz.00000.wav', 'jazz.00001.wav', 'jazz.00002.wav', 'jazz.00003.wav', 'jazz.00004.wav', 'jazz.00005.wav', 'jazz.00006.wav', 'jazz.00007.wav', 'jazz.00008.wav', 'jazz.00009.wav', 'jazz.00010.wav', 'jazz.00011.wav', 'jazz.00012.wav', 'jazz.00013.wav', 'jazz.00014.wav', 'jazz.00015.wav', 'jazz.00016.wav', 'jazz.00017.wav', 'jazz.00018.wav', 'jazz.00019.wav', 'jazz.00020.wav', 'jazz.00021.wav', 'jazz.00022.wav', 'jazz.00023.wav', 'jazz.00024.wav', 'jazz.00025.wav', 'jazz.00026.wav', 'jazz.00027.wav', 'jazz.00028.wav', 'jazz.00029.wav', 'jazz.00030.wav', 'jazz.00031.wav', 'jazz.00032.wav', 'jazz.00033.wav', 'jazz.00034.wav', 'jazz.00035.wav', 'jazz.00036.wav', 'jazz.00037.wav', 'jazz.00038.wav', 'jazz.00039.wav', 'jazz.00040.wav', 'jazz.00041.wav', 'jazz.00042.wav', 'jazz.00043.wav', 'jazz.00044.wav', 'jazz.00045.wav', 'jazz.00046.wav', 'jazz.00047.wav', 'jazz.00048.wav', 'jazz.00049.wav', 'jazz.00050.wav', 'jazz.00051.wav', 'jazz.00052.wav', 'jazz.00053.wav', 'jazz.00054.wav', 'jazz.00055.wav', 'jazz.00056.wav', 'jazz.00057.wav', 'jazz.00058.wav', 'jazz.00059.wav', 'jazz.00060.wav', 'jazz.00061.wav', 'jazz.00062.wav', 'jazz.00063.wav', 'jazz.00064.wav', 'jazz.00065.wav', 'jazz.00066.wav', 'jazz.00067.wav', 'jazz.00068.wav', 'jazz.00069.wav', 'jazz.00070.wav', 'jazz.00071.wav', 'jazz.00072.wav', 'jazz.00073.wav', 'jazz.00074.wav', 'jazz.00075.wav', 'jazz.00076.wav', 'jazz.00077.wav', 'jazz.00078.wav', 'jazz.00079.wav', 'jazz.00080.wav', 'jazz.00081.wav', 'jazz.00082.wav', 'jazz.00083.wav', 'jazz.00084.wav', 'jazz.00085.wav', 'jazz.00086.wav', 'jazz.00087.wav', 'jazz.00088.wav', 'jazz.00089.wav', 'jazz.00090.wav', 'jazz.00091.wav', 'jazz.00092.wav', 'jazz.00093.wav', 'jazz.00094.wav', 'jazz.00095.wav', 'jazz.00096.wav', 'jazz.00097.wav', 'jazz.00098.wav', 'jazz.00099.wav', 'jazz.upgrade.0.wav', 'jazz.upgrade.1.wav', 'jazz.upgrade.2.wav', 'jazz.upgrade.3.wav', 'jazz.upgrade.4.wav', 'jazz.upgrade.5.wav', 'jazz.upgrade.6.wav', 'jazz.upgrade.7.wav', 'jazz.upgrade.8.wav', 'jazz.upgrade.9.wav']\n"
     ]
    },
    {
     "name": "stderr",
     "output_type": "stream",
     "text": [
      "c:\\Users\\fcola\\Documents\\COURS\\opendata\\music_genre_classification\\.venv\\Lib\\site-packages\\pydub\\utils.py:198: RuntimeWarning: Couldn't find ffprobe or avprobe - defaulting to ffprobe, but may not work\n",
      "  warn(\"Couldn't find ffprobe or avprobe - defaulting to ffprobe, but may not work\", RuntimeWarning)\n"
     ]
    },
    {
     "name": "stdout",
     "output_type": "stream",
     "text": [
      "[WinError 2] Le fichier spécifié est introuvable\n",
      "['metal.00000.wav', 'metal.00001.wav', 'metal.00002.wav', 'metal.00003.wav', 'metal.00004.wav', 'metal.00005.wav', 'metal.00006.wav', 'metal.00007.wav', 'metal.00008.wav', 'metal.00009.wav', 'metal.00010.wav', 'metal.00011.wav', 'metal.00012.wav', 'metal.00013.wav', 'metal.00014.wav', 'metal.00015.wav', 'metal.00016.wav', 'metal.00017.wav', 'metal.00018.wav', 'metal.00019.wav', 'metal.00020.wav', 'metal.00021.wav', 'metal.00022.wav', 'metal.00023.wav', 'metal.00024.wav', 'metal.00025.wav', 'metal.00026.wav', 'metal.00027.wav', 'metal.00028.wav', 'metal.00029.wav', 'metal.00030.wav', 'metal.00031.wav', 'metal.00032.wav', 'metal.00033.wav', 'metal.00034.wav', 'metal.00035.wav', 'metal.00036.wav', 'metal.00037.wav', 'metal.00038.wav', 'metal.00039.wav', 'metal.00040.wav', 'metal.00041.wav', 'metal.00042.wav', 'metal.00043.wav', 'metal.00044.wav', 'metal.00045.wav', 'metal.00046.wav', 'metal.00047.wav', 'metal.00048.wav', 'metal.00049.wav', 'metal.00050.wav', 'metal.00051.wav', 'metal.00052.wav', 'metal.00053.wav', 'metal.00054.wav', 'metal.00055.wav', 'metal.00056.wav', 'metal.00057.wav', 'metal.00058.wav', 'metal.00059.wav', 'metal.00060.wav', 'metal.00061.wav', 'metal.00062.wav', 'metal.00063.wav', 'metal.00064.wav', 'metal.00065.wav', 'metal.00066.wav', 'metal.00067.wav', 'metal.00068.wav', 'metal.00069.wav', 'metal.00070.wav', 'metal.00071.wav', 'metal.00072.wav', 'metal.00073.wav', 'metal.00074.wav', 'metal.00075.wav', 'metal.00076.wav', 'metal.00077.wav', 'metal.00078.wav', 'metal.00079.wav', 'metal.00080.wav', 'metal.00081.wav', 'metal.00082.wav', 'metal.00083.wav', 'metal.00084.wav', 'metal.00085.wav', 'metal.00086.wav', 'metal.00087.wav', 'metal.00088.wav', 'metal.00089.wav', 'metal.00090.wav', 'metal.00091.wav', 'metal.00092.wav', 'metal.00093.wav', 'metal.00094.wav', 'metal.00095.wav', 'metal.00096.wav', 'metal.00097.wav', 'metal.00098.wav', 'metal.00099.wav', 'metal.upgrade.0.wav', 'metal.upgrade.1.wav', 'metal.upgrade.2.wav', 'metal.upgrade.3.wav', 'metal.upgrade.4.wav', 'metal.upgrade.5.wav', 'metal.upgrade.6.wav', 'metal.upgrade.7.wav', 'metal.upgrade.8.wav', 'metal.upgrade.9.wav']\n",
      "['pop.00000.wav', 'pop.00001.wav', 'pop.00002.wav', 'pop.00003.wav', 'pop.00004.wav', 'pop.00005.wav', 'pop.00006.wav', 'pop.00007.wav', 'pop.00008.wav', 'pop.00009.wav', 'pop.00010.wav', 'pop.00011.wav', 'pop.00012.wav', 'pop.00013.wav', 'pop.00014.wav', 'pop.00015.wav', 'pop.00016.wav', 'pop.00017.wav', 'pop.00018.wav', 'pop.00019.wav', 'pop.00020.wav', 'pop.00021.wav', 'pop.00022.wav', 'pop.00023.wav', 'pop.00024.wav', 'pop.00025.wav', 'pop.00026.wav', 'pop.00027.wav', 'pop.00028.wav', 'pop.00029.wav', 'pop.00030.wav', 'pop.00031.wav', 'pop.00032.wav', 'pop.00033.wav', 'pop.00034.wav', 'pop.00035.wav', 'pop.00036.wav', 'pop.00037.wav', 'pop.00038.wav', 'pop.00039.wav', 'pop.00040.wav', 'pop.00041.wav', 'pop.00042.wav', 'pop.00043.wav', 'pop.00044.wav', 'pop.00045.wav', 'pop.00046.wav', 'pop.00047.wav', 'pop.00048.wav', 'pop.00049.wav', 'pop.00050.wav', 'pop.00051.wav', 'pop.00052.wav', 'pop.00053.wav', 'pop.00054.wav', 'pop.00055.wav', 'pop.00056.wav', 'pop.00057.wav', 'pop.00058.wav', 'pop.00059.wav', 'pop.00060.wav', 'pop.00061.wav', 'pop.00062.wav', 'pop.00063.wav', 'pop.00064.wav', 'pop.00065.wav', 'pop.00066.wav', 'pop.00067.wav', 'pop.00068.wav', 'pop.00069.wav', 'pop.00070.wav', 'pop.00071.wav', 'pop.00072.wav', 'pop.00073.wav', 'pop.00074.wav', 'pop.00075.wav', 'pop.00076.wav', 'pop.00077.wav', 'pop.00078.wav', 'pop.00079.wav', 'pop.00080.wav', 'pop.00081.wav', 'pop.00082.wav', 'pop.00083.wav', 'pop.00084.wav', 'pop.00085.wav', 'pop.00086.wav', 'pop.00087.wav', 'pop.00088.wav', 'pop.00089.wav', 'pop.00090.wav', 'pop.00091.wav', 'pop.00092.wav', 'pop.00093.wav', 'pop.00094.wav', 'pop.00095.wav', 'pop.00096.wav', 'pop.00097.wav', 'pop.00098.wav', 'pop.00099.wav', 'pop.upgrade.0.wav', 'pop.upgrade.1.wav', 'pop.upgrade.2.wav', 'pop.upgrade.3.wav', 'pop.upgrade.4.wav', 'pop.upgrade.5.wav', 'pop.upgrade.6.wav', 'pop.upgrade.7.wav', 'pop.upgrade.8.wav', 'pop.upgrade.9.wav']\n",
      "['reggae.00000.wav', 'reggae.00001.wav', 'reggae.00002.wav', 'reggae.00003.wav', 'reggae.00004.wav', 'reggae.00005.wav', 'reggae.00006.wav', 'reggae.00007.wav', 'reggae.00008.wav', 'reggae.00009.wav', 'reggae.00010.wav', 'reggae.00011.wav', 'reggae.00012.wav', 'reggae.00013.wav', 'reggae.00014.wav', 'reggae.00015.wav', 'reggae.00016.wav', 'reggae.00017.wav', 'reggae.00018.wav', 'reggae.00019.wav', 'reggae.00020.wav', 'reggae.00021.wav', 'reggae.00022.wav', 'reggae.00023.wav', 'reggae.00024.wav', 'reggae.00025.wav', 'reggae.00026.wav', 'reggae.00027.wav', 'reggae.00028.wav', 'reggae.00029.wav', 'reggae.00030.wav', 'reggae.00031.wav', 'reggae.00032.wav', 'reggae.00033.wav', 'reggae.00034.wav', 'reggae.00035.wav', 'reggae.00036.wav', 'reggae.00037.wav', 'reggae.00038.wav', 'reggae.00039.wav', 'reggae.00040.wav', 'reggae.00041.wav', 'reggae.00042.wav', 'reggae.00043.wav', 'reggae.00044.wav', 'reggae.00045.wav', 'reggae.00046.wav', 'reggae.00047.wav', 'reggae.00048.wav', 'reggae.00049.wav', 'reggae.00050.wav', 'reggae.00051.wav', 'reggae.00052.wav', 'reggae.00053.wav', 'reggae.00054.wav', 'reggae.00055.wav', 'reggae.00056.wav', 'reggae.00057.wav', 'reggae.00058.wav', 'reggae.00059.wav', 'reggae.00060.wav', 'reggae.00061.wav', 'reggae.00062.wav', 'reggae.00063.wav', 'reggae.00064.wav', 'reggae.00065.wav', 'reggae.00066.wav', 'reggae.00067.wav', 'reggae.00068.wav', 'reggae.00069.wav', 'reggae.00070.wav', 'reggae.00071.wav', 'reggae.00072.wav', 'reggae.00073.wav', 'reggae.00074.wav', 'reggae.00075.wav', 'reggae.00076.wav', 'reggae.00077.wav', 'reggae.00078.wav', 'reggae.00079.wav', 'reggae.00080.wav', 'reggae.00081.wav', 'reggae.00082.wav', 'reggae.00083.wav', 'reggae.00084.wav', 'reggae.00085.wav', 'reggae.00086.wav', 'reggae.00087.wav', 'reggae.00088.wav', 'reggae.00089.wav', 'reggae.00090.wav', 'reggae.00091.wav', 'reggae.00092.wav', 'reggae.00093.wav', 'reggae.00094.wav', 'reggae.00095.wav', 'reggae.00096.wav', 'reggae.00097.wav', 'reggae.00098.wav', 'reggae.00099.wav', 'reggae.upgrade.0.wav', 'reggae.upgrade.1.wav', 'reggae.upgrade.2.wav', 'reggae.upgrade.3.wav', 'reggae.upgrade.4.wav', 'reggae.upgrade.5.wav', 'reggae.upgrade.6.wav', 'reggae.upgrade.7.wav', 'reggae.upgrade.8.wav', 'reggae.upgrade.9.wav']\n",
      "['rock.00000.wav', 'rock.00001.wav', 'rock.00002.wav', 'rock.00003.wav', 'rock.00004.wav', 'rock.00005.wav', 'rock.00006.wav', 'rock.00007.wav', 'rock.00008.wav', 'rock.00009.wav', 'rock.00010.wav', 'rock.00011.wav', 'rock.00012.wav', 'rock.00013.wav', 'rock.00014.wav', 'rock.00015.wav', 'rock.00016.wav', 'rock.00017.wav', 'rock.00018.wav', 'rock.00019.wav', 'rock.00020.wav', 'rock.00021.wav', 'rock.00022.wav', 'rock.00023.wav', 'rock.00024.wav', 'rock.00025.wav', 'rock.00026.wav', 'rock.00027.wav', 'rock.00028.wav', 'rock.00029.wav', 'rock.00030.wav', 'rock.00031.wav', 'rock.00032.wav', 'rock.00033.wav', 'rock.00034.wav', 'rock.00035.wav', 'rock.00036.wav', 'rock.00037.wav', 'rock.00038.wav', 'rock.00039.wav', 'rock.00040.wav', 'rock.00041.wav', 'rock.00042.wav', 'rock.00043.wav', 'rock.00044.wav', 'rock.00045.wav', 'rock.00046.wav', 'rock.00047.wav', 'rock.00048.wav', 'rock.00049.wav', 'rock.00050.wav', 'rock.00051.wav', 'rock.00052.wav', 'rock.00053.wav', 'rock.00054.wav', 'rock.00055.wav', 'rock.00056.wav', 'rock.00057.wav', 'rock.00058.wav', 'rock.00059.wav', 'rock.00060.wav', 'rock.00061.wav', 'rock.00062.wav', 'rock.00063.wav', 'rock.00064.wav', 'rock.00065.wav', 'rock.00066.wav', 'rock.00067.wav', 'rock.00068.wav', 'rock.00069.wav', 'rock.00070.wav', 'rock.00071.wav', 'rock.00072.wav', 'rock.00073.wav', 'rock.00074.wav', 'rock.00075.wav', 'rock.00076.wav', 'rock.00077.wav', 'rock.00078.wav', 'rock.00079.wav', 'rock.00080.wav', 'rock.00081.wav', 'rock.00082.wav', 'rock.00083.wav', 'rock.00084.wav', 'rock.00085.wav', 'rock.00086.wav', 'rock.00087.wav', 'rock.00088.wav', 'rock.00089.wav', 'rock.00090.wav', 'rock.00091.wav', 'rock.00092.wav', 'rock.00093.wav', 'rock.00094.wav', 'rock.00095.wav', 'rock.00096.wav', 'rock.00097.wav', 'rock.00098.wav', 'rock.00099.wav', 'rock.upgrade.0.wav', 'rock.upgrade.1.wav', 'rock.upgrade.2.wav', 'rock.upgrade.3.wav', 'rock.upgrade.4.wav', 'rock.upgrade.5.wav', 'rock.upgrade.6.wav', 'rock.upgrade.7.wav', 'rock.upgrade.8.wav', 'rock.upgrade.9.wav']\n"
     ]
    }
   ],
   "source": [
    "from pydub import AudioSegment\n",
    "import os\n",
    "\n",
    "def split_wav_file(input_file_path, output_folder, index):\n",
    "    # Vérifier si le dossier de sortie existe, sinon le créer\n",
    "    if not os.path.exists(output_folder):\n",
    "        os.makedirs(output_folder)\n",
    "\n",
    "    try: \n",
    "        sound = AudioSegment.from_wav(input_file_path)\n",
    "\n",
    "        clip_duration = 30 * 1000  # Durée de chaque clip en millisecondes\n",
    "        total_duration = len(sound)\n",
    "\n",
    "        total_clips = total_duration // clip_duration\n",
    "\n",
    "        for i in range(total_clips):\n",
    "            start_time = i * clip_duration\n",
    "            end_time = (i + 1) * clip_duration\n",
    "            clip = sound[start_time:end_time]\n",
    "            clip.export(os.path.join(output_folder, f\"{index}_clip_{i + 1}.wav\"), format=\"wav\")\n",
    "    except Exception as e:\n",
    "        print(e)\n",
    "\n",
    "thirty_seconds_folder = './data/genres_30s/'\n",
    "\n",
    "for genre in genres:\n",
    "    # create a folder for each genre,\n",
    "    # then take all the music files in the genre folder\n",
    "    # and separate them into 3s clips\n",
    "    genre_folder = thirty_seconds_folder + genre\n",
    "    if not os.path.exists(genre_folder):\n",
    "        os.mkdir(genre_folder)\n",
    "\n",
    "    genre_path = raw_data_folder + genre\n",
    "    music_files = os.listdir(genre_path)\n",
    "    print (music_files)\n",
    "\n",
    "    # for each music file, split it into 3s clips\n",
    "    for i in range(len(music_files)):\n",
    "        music_file_path = genre_path + '/' + music_files[i]\n",
    "        split_wav_file(music_file_path, genre_folder, i)\n",
    "    "
   ]
  },
  {
   "cell_type": "code",
   "execution_count": 3,
   "metadata": {},
   "outputs": [],
   "source": [
    "import librosa\n",
    "import pandas as pd\n",
    "import numpy as np\n",
    "\n",
    "def extract_audio_features(file_path, label):\n",
    "    try:\n",
    "        sr = 44100\n",
    "        # Chargement du fichier audio\n",
    "        y, sr = librosa.load(file_path, sr=sr)\n",
    "\n",
    "        # spectrogram, tempo, chroma, mfccs, spectral_contrast\n",
    "\n",
    "        spectrogram = np.abs(librosa.stft(y))\n",
    "        spectrogram_min = np.min(spectrogram)\n",
    "        spectrogram_max = np.max(spectrogram)\n",
    "        spectrogram_mean = np.mean(spectrogram)\n",
    "        spectrogram_std = np.std(spectrogram)\n",
    "\n",
    "        tempo, _ = librosa.beat.beat_track(y=y, sr=sr)\n",
    "\n",
    "        chroma = librosa.feature.chroma_stft(y=y, sr=sr)\n",
    "        chroma_min = np.min(chroma)\n",
    "        chroma_max = np.max(chroma)\n",
    "        chroma_mean = np.mean(chroma)\n",
    "        chroma_std = np.std(chroma)\n",
    "\n",
    "        mfccs = librosa.feature.mfcc(y=y, sr=sr)\n",
    "        mfccs_min = np.min(mfccs)\n",
    "        mfccs_max = np.max(mfccs)\n",
    "        mfccs_mean = np.mean(mfccs)\n",
    "\n",
    "        spectral_contrast = librosa.feature.spectral_contrast(y=y, sr=sr)\n",
    "        spectral_contrast_min = np.min(spectral_contrast)\n",
    "        spectral_contrast_max = np.max(spectral_contrast)\n",
    "        spectral_contrast_mean = np.mean(spectral_contrast)\n",
    "        spectral_contrast_std = np.std(spectral_contrast)\n",
    "\n",
    "        audio_features = {\n",
    "            'label': label,\n",
    "            'spectrogram_min': spectrogram_min,\n",
    "            'spectrogram_max': spectrogram_max,\n",
    "            'spectrogram_mean': spectrogram_mean,\n",
    "            'spectrogram_std': spectrogram_std,\n",
    "            'tempo': tempo,\n",
    "            'chroma_min': chroma_min,\n",
    "            'chroma_max': chroma_max,\n",
    "            'chroma_mean': chroma_mean,\n",
    "            'chroma_std': chroma_std,\n",
    "            'mfccs_min': mfccs_min,\n",
    "            'mfccs_max': mfccs_max,\n",
    "            'mfccs_mean': mfccs_mean,\n",
    "            'spectral_contrast_min': spectral_contrast_min,\n",
    "            'spectral_contrast_max': spectral_contrast_max,\n",
    "            'spectral_contrast_mean': spectral_contrast_mean,\n",
    "            'spectral_contrast_std': spectral_contrast_std\n",
    "        }\n",
    "        return audio_features\n",
    "    except Exception as e:\n",
    "        print(f\"Error processing {file_path}: {e}\")\n",
    "        return None\n",
    "\n",
    "# # test extract_audio_features pour 1 fichier\n",
    "# file_test = './data/genres_3s/blues/clip_1.wav'\n",
    "\n",
    "# extract_audio_features(file_test, 'blues')"
   ]
  },
  {
   "cell_type": "code",
   "execution_count": 4,
   "metadata": {},
   "outputs": [
    {
     "name": "stdout",
     "output_type": "stream",
     "text": [
      "Done for genre:  blues  with  166  files\n",
      "Done for genre:  classical  with  227  files\n",
      "Done for genre:  country  with  155  files\n",
      "Done for genre:  disco  with  166  files\n",
      "Done for genre:  hiphop  with  183  files\n"
     ]
    },
    {
     "name": "stderr",
     "output_type": "stream",
     "text": [
      "c:\\Users\\fcola\\Documents\\COURS\\opendata\\music_genre_classification\\.venv\\Lib\\site-packages\\librosa\\core\\pitch.py:101: UserWarning: Trying to estimate tuning from empty frequency set.\n",
      "  return pitch_tuning(\n"
     ]
    },
    {
     "name": "stdout",
     "output_type": "stream",
     "text": [
      "Done for genre:  jazz  with  222  files\n",
      "Done for genre:  metal  with  180  files\n",
      "Done for genre:  pop  with  182  files\n",
      "Done for genre:  reggae  with  178  files\n",
      "Done for genre:  rock  with  203  files\n"
     ]
    }
   ],
   "source": [
    "df_list = []\n",
    "\n",
    "for genre in genres:\n",
    "    wav_folder = os.path.join(thirty_seconds_folder, genre)\n",
    "    wav_files = [os.path.join(wav_folder, file) for file in os.listdir(wav_folder) if file.endswith('.wav')]\n",
    "\n",
    "    for wav_file in wav_files:\n",
    "        audio_features = extract_audio_features(wav_file, genre)\n",
    "        if audio_features:\n",
    "            df_list.append(audio_features)\n",
    "        else:\n",
    "            print(f\"Skipping {wav_file} due to processing error.\")\n",
    "        \n",
    "    print('Done for genre: ', genre, ' with ', len(wav_files), ' files')\n",
    "\n",
    "version = 2\n",
    "df = pd.DataFrame(df_list, columns=['label', 'spectrogram_min', 'spectrogram_max', 'spectrogram_mean', 'spectrogram_std', 'tempo', 'chroma_min', 'chroma_max', 'chroma_mean', 'chroma_std', 'mfccs_min', 'mfccs_max', 'mfccs_mean', 'spectral_contrast_min', 'spectral_contrast_max', 'spectral_contrast_mean', 'spectral_contrast_std'])\n",
    "df.to_csv('./clean_data/v{version}_audio_features_3s.csv'.format(version=version), index=False)\n",
    "\n",
    "# 17min for 3s wav\n",
    "# 15m for 30s wav"
   ]
  },
  {
   "cell_type": "code",
   "execution_count": 5,
   "metadata": {},
   "outputs": [],
   "source": [
    "# foreach genre in dataframes, cut the number of rows to the minimum number of rows\n",
    "# for each genre\n",
    "# get the minimum number of rows\n",
    "# cut the dataframe to the minimum number of rows\n",
    "# append the dataframe to the final dataframe\n",
    "\n",
    "# get the minimum number of rows\n",
    "min_rows = df['label'].value_counts().min()\n",
    "\n",
    "# cut the dataframe to the minimum number of rows\n",
    "df_final = pd.DataFrame()\n",
    "for genre in genres:\n",
    "    df_genre = df[df['label'] == genre]\n",
    "    df_genre = df_genre.sample(min_rows)\n",
    "    # concatenate the two dataframes\n",
    "    df_final = pd.concat([df_final, df_genre], ignore_index=True)\n",
    "\n",
    "# save the dataframe\n",
    "df_final.to_csv('./clean_data/v{version}_audio_features_30s_equal.csv'.format(version=version), index=False)"
   ]
  }
 ],
 "metadata": {
  "kernelspec": {
   "display_name": ".venv",
   "language": "python",
   "name": "python3"
  },
  "language_info": {
   "codemirror_mode": {
    "name": "ipython",
    "version": 3
   },
   "file_extension": ".py",
   "mimetype": "text/x-python",
   "name": "python",
   "nbconvert_exporter": "python",
   "pygments_lexer": "ipython3",
   "version": "3.11.0"
  }
 },
 "nbformat": 4,
 "nbformat_minor": 2
}
