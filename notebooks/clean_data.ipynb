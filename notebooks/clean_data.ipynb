{
 "cells": [
  {
   "cell_type": "markdown",
   "metadata": {},
   "source": [
    "# Préparer le dataset"
   ]
  },
  {
   "cell_type": "code",
   "execution_count": 1,
   "metadata": {},
   "outputs": [
    {
     "name": "stdout",
     "output_type": "stream",
     "text": [
      "['blues', 'classical', 'country', 'disco', 'hiphop', 'jazz', 'metal', 'pop', 'reggae', 'rock']\n"
     ]
    }
   ],
   "source": [
    "raw_data_folder = './data/genres_original/'\n",
    "\n",
    "# take all folder in raw_data_folder\n",
    "import os\n",
    "genres = os.listdir(raw_data_folder)\n",
    "\n",
    "print(genres)"
   ]
  },
  {
   "cell_type": "code",
   "execution_count": 2,
   "metadata": {},
   "outputs": [
    {
     "name": "stderr",
     "output_type": "stream",
     "text": [
      "c:\\Users\\fcola\\Documents\\COURS\\opendata\\music_genre_classification\\.venv\\Lib\\site-packages\\pydub\\utils.py:170: RuntimeWarning: Couldn't find ffmpeg or avconv - defaulting to ffmpeg, but may not work\n",
      "  warn(\"Couldn't find ffmpeg or avconv - defaulting to ffmpeg, but may not work\", RuntimeWarning)\n"
     ]
    }
   ],
   "source": [
    "from pydub import AudioSegment\n",
    "import os\n",
    "\n",
    "def split_wav_file(input_file_path, output_folder):\n",
    "    # Vérifier si le dossier de sortie existe, sinon le créer\n",
    "    if not os.path.exists(output_folder):\n",
    "        os.makedirs(output_folder)\n",
    "\n",
    "    # Vérifier si le fichier  de clip existe, si oui return\n",
    "    if os.path.exists(os.path.join(output_folder, \"clip_1.wav\")):\n",
    "        return\n",
    "    \n",
    "\n",
    "    try: \n",
    "        sound = AudioSegment.from_wav(input_file_path)\n",
    "\n",
    "        clip_duration = 3 * 1000  # Durée de chaque clip en millisecondes\n",
    "        total_duration = len(sound)\n",
    "\n",
    "        total_clips = total_duration // clip_duration\n",
    "\n",
    "        for i in range(total_clips):\n",
    "            start_time = i * clip_duration\n",
    "            end_time = (i + 1) * clip_duration\n",
    "            clip = sound[start_time:end_time]\n",
    "            clip.export(os.path.join(output_folder, f\"clip_{i + 1}.wav\"), format=\"wav\")\n",
    "    except Exception as e:\n",
    "        print(e)\n",
    "\n",
    "tree_seconds_folder = './data/genres_3s/'\n",
    "\n",
    "for genre in genres:\n",
    "    # create a folder for each genre,\n",
    "    # then take all the music files in the genre folder\n",
    "    # and separate them into 3s clips\n",
    "    genre_folder = tree_seconds_folder + genre\n",
    "    if not os.path.exists(genre_folder):\n",
    "        os.mkdir(genre_folder)\n",
    "\n",
    "    genre_path = raw_data_folder + genre\n",
    "    music_files = os.listdir(genre_path)\n",
    "\n",
    "    for music_file in music_files:\n",
    "        music_file_path = genre_path + '/' + music_file\n",
    "        # check if file exist\n",
    "        if os.path.exists(music_file_path):\n",
    "            split_wav_file(music_file_path, genre_folder)"
   ]
  },
  {
   "cell_type": "code",
   "execution_count": 14,
   "metadata": {},
   "outputs": [],
   "source": [
    "import librosa\n",
    "import pandas as pd\n",
    "import numpy as np\n",
    "\n",
    "def extract_audio_features(file_path, label):\n",
    "    try:\n",
    "        sr = 44100\n",
    "        # Chargement du fichier audio\n",
    "        y, sr = librosa.load(file_path, sr=sr)\n",
    "\n",
    "        # spectrogram, tempo, chroma, mfccs, spectral_contrast\n",
    "\n",
    "        spectrogram = np.abs(librosa.stft(y))\n",
    "        spectrogram_min = np.min(spectrogram)\n",
    "        spectrogram_max = np.max(spectrogram)\n",
    "        spectrogram_mean = np.mean(spectrogram)\n",
    "        spectrogram_std = np.std(spectrogram)\n",
    "\n",
    "        tempo, _ = librosa.beat.beat_track(y=y, sr=sr)\n",
    "\n",
    "        chroma = librosa.feature.chroma_stft(y=y, sr=sr)\n",
    "        chroma_min = np.min(chroma)\n",
    "        chroma_max = np.max(chroma)\n",
    "        chroma_mean = np.mean(chroma)\n",
    "        chroma_std = np.std(chroma)\n",
    "\n",
    "        mfccs = librosa.feature.mfcc(y=y, sr=sr)\n",
    "        mfccs_min = np.min(mfccs)\n",
    "        mfccs_max = np.max(mfccs)\n",
    "        mfccs_mean = np.mean(mfccs)\n",
    "\n",
    "        spectral_contrast = librosa.feature.spectral_contrast(y=y, sr=sr)\n",
    "        spectral_contrast_min = np.min(spectral_contrast)\n",
    "        spectral_contrast_max = np.max(spectral_contrast)\n",
    "        spectral_contrast_mean = np.mean(spectral_contrast)\n",
    "        spectral_contrast_std = np.std(spectral_contrast)\n",
    "\n",
    "        audio_features = {\n",
    "            'label': label,\n",
    "            'spectrogram_min': spectrogram_min,\n",
    "            'spectrogram_max': spectrogram_max,\n",
    "            'spectrogram_mean': spectrogram_mean,\n",
    "            'spectrogram_std': spectrogram_std,\n",
    "            'tempo': tempo,\n",
    "            'chroma_min': chroma_min,\n",
    "            'chroma_max': chroma_max,\n",
    "            'chroma_mean': chroma_mean,\n",
    "            'chroma_std': chroma_std,\n",
    "            'mfccs_min': mfccs_min,\n",
    "            'mfccs_max': mfccs_max,\n",
    "            'mfccs_mean': mfccs_mean,\n",
    "            'spectral_contrast_min': spectral_contrast_min,\n",
    "            'spectral_contrast_max': spectral_contrast_max,\n",
    "            'spectral_contrast_mean': spectral_contrast_mean,\n",
    "            'spectral_contrast_std': spectral_contrast_std\n",
    "        }\n",
    "        return audio_features\n",
    "    except Exception as e:\n",
    "        print(f\"Error processing {file_path}: {e}\")\n",
    "        return None\n",
    "\n",
    "# # test extract_audio_features pour 1 fichier\n",
    "# file_test = './data/genres_3s/blues/clip_1.wav'\n",
    "\n",
    "# extract_audio_features(file_test, 'blues')"
   ]
  },
  {
   "cell_type": "code",
   "execution_count": 15,
   "metadata": {},
   "outputs": [
    {
     "name": "stdout",
     "output_type": "stream",
     "text": [
      "Done for genre:  blues  with  10  files\n",
      "Done for genre:  classical  with  10  files\n",
      "Done for genre:  country  with  10  files\n",
      "Done for genre:  disco  with  10  files\n",
      "Done for genre:  hiphop  with  10  files\n",
      "Done for genre:  jazz  with  10  files\n",
      "Done for genre:  metal  with  10  files\n",
      "Done for genre:  pop  with  10  files\n",
      "Done for genre:  reggae  with  10  files\n",
      "Done for genre:  rock  with  10  files\n"
     ]
    }
   ],
   "source": [
    "df_list = []\n",
    "\n",
    "for genre in genres:\n",
    "    wav_folder = os.path.join(tree_seconds_folder, genre)\n",
    "    wav_files = [os.path.join(wav_folder, file) for file in os.listdir(wav_folder) if file.endswith('.wav')]\n",
    "\n",
    "    for wav_file in wav_files:\n",
    "        audio_features = extract_audio_features(wav_file, genre)\n",
    "        if audio_features:\n",
    "            df_list.append(audio_features)\n",
    "        else:\n",
    "            print(f\"Skipping {wav_file} due to processing error.\")\n",
    "        \n",
    "    print('Done for genre: ', genre, ' with ', len(wav_files), ' files')\n",
    "\n",
    "df = pd.DataFrame(df_list, columns=['label', 'spectrogram_min', 'spectrogram_max', 'spectrogram_mean', 'spectrogram_std', 'tempo', 'chroma_min', 'chroma_max', 'chroma_mean', 'chroma_std', 'mfccs_min', 'mfccs_max', 'mfccs_mean', 'spectral_contrast_min', 'spectral_contrast_max', 'spectral_contrast_mean', 'spectral_contrast_std'])\n",
    "df.to_csv('./clean_data/audio_features_3s.csv', index=False)"
   ]
  }
 ],
 "metadata": {
  "kernelspec": {
   "display_name": ".venv",
   "language": "python",
   "name": "python3"
  },
  "language_info": {
   "codemirror_mode": {
    "name": "ipython",
    "version": 3
   },
   "file_extension": ".py",
   "mimetype": "text/x-python",
   "name": "python",
   "nbconvert_exporter": "python",
   "pygments_lexer": "ipython3",
   "version": "3.11.0"
  }
 },
 "nbformat": 4,
 "nbformat_minor": 2
}
